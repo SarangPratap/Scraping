{
 "cells": [
  {
   "cell_type": "code",
   "execution_count": 1,
   "metadata": {},
   "outputs": [],
   "source": [
    "import bs4\n",
    "from urllib.request import urlopen as uReq\n",
    "from bs4 import BeautifulSoup as soup\n",
    "import re"
   ]
  },
  {
   "cell_type": "code",
   "execution_count": 2,
   "metadata": {},
   "outputs": [],
   "source": [
    "my_url=\"https://www.kommunicate.io/pricing\"\n",
    "uClient = uReq(my_url)\n",
    "page_html=uClient.read()"
   ]
  },
  {
   "cell_type": "code",
   "execution_count": 3,
   "metadata": {},
   "outputs": [],
   "source": [
    "uClient.close()"
   ]
  },
  {
   "cell_type": "code",
   "execution_count": 4,
   "metadata": {},
   "outputs": [
    {
     "name": "stdout",
     "output_type": "stream",
     "text": [
      "\n",
      "\n",
      " $0 \n",
      "\n",
      "\n",
      "\n",
      "\n",
      " $20\n",
      "- Includes 2 teammates - $10 for each additional teammate  - Unlimited bots\n",
      "(Billed Annually)\n",
      "\n",
      "\n",
      "$16\n",
      "- Includes 2 teammates - $8 for each additional teammate  - Unlimited bots\n",
      "(Billed Annually)\n",
      "\n",
      "\n",
      "\n",
      "\n",
      " $40\n",
      "- Includes 2 teammates  - $20 for each additional teammate  - Unlimited bots\n",
      "(Billed Annually)\n",
      "\n",
      "\n",
      "$32\n",
      "- Includes 2 teammates  - $16 for each additional teammate  - Unlimited bots\n",
      "(Billed Annually)\n",
      "\n",
      "\n",
      "\n",
      "\n",
      " CUSTOM\n",
      "\n",
      "\n",
      " $0 \n",
      "  \n",
      "\n",
      "\n",
      "\n",
      "\n",
      " $20\n",
      "(Billed Annually)\n",
      "\n",
      "\n",
      "$16\n",
      "(Billed Annually)\n",
      "\n",
      "\n"
     ]
    }
   ],
   "source": [
    "page_soup=soup(page_html,\"html.parser\")\n",
    "pricing=page_soup.findAll(\"div\",{\"class\":\"pricing-value\"})\n",
    "for i in (pricing):\n",
    "    txt=i.text\n",
    "    k=re.findall(\"^$\", txt)\n",
    "    print(i.text)"
   ]
  },
  {
   "cell_type": "code",
   "execution_count": null,
   "metadata": {},
   "outputs": [],
   "source": []
  }
 ],
 "metadata": {
  "kernelspec": {
   "display_name": "Python 3",
   "language": "python",
   "name": "python3"
  },
  "language_info": {
   "codemirror_mode": {
    "name": "ipython",
    "version": 3
   },
   "file_extension": ".py",
   "mimetype": "text/x-python",
   "name": "python",
   "nbconvert_exporter": "python",
   "pygments_lexer": "ipython3",
   "version": "3.7.7"
  }
 },
 "nbformat": 4,
 "nbformat_minor": 4
}
