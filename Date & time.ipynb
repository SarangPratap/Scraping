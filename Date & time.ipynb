{
 "cells": [
  {
   "cell_type": "code",
   "execution_count": 1,
   "metadata": {},
   "outputs": [],
   "source": [
    "import bs4\n",
    "from urllib.request import urlopen as uReq\n",
    "from bs4 import BeautifulSoup as soup\n",
    "import re "
   ]
  },
  {
   "cell_type": "code",
   "execution_count": 2,
   "metadata": {},
   "outputs": [],
   "source": [
    "my_url=\"https://www.kommunicate.io/sla\"\n",
    "uClient = uReq(my_url)\n",
    "page_html=uClient.read()"
   ]
  },
  {
   "cell_type": "code",
   "execution_count": 3,
   "metadata": {},
   "outputs": [],
   "source": [
    "uClient.close()"
   ]
  },
  {
   "cell_type": "code",
   "execution_count": 4,
   "metadata": {},
   "outputs": [
    {
     "name": "stdout",
     "output_type": "stream",
     "text": [
      "\n",
      "  15 June 2020\n",
      "\n",
      "\n",
      "Monday - Friday: 5.30 AM - 11.00 PM\n",
      "Saturday - Sunday: 7.30 AM - 01.30 PM\n",
      "\n",
      "1 hour\n",
      "2 hour\n",
      "4 hour\n",
      "12 hour\n",
      "48 hour\n",
      "72 hour\n"
     ]
    }
   ],
   "source": [
    "page_soup=soup(page_html,\"html.parser\")\n",
    "date1=page_soup.findAll(\"div\",{\"class\":\"last-updated text-center\"})\n",
    "print(date1[0].text.replace(\"Last Updated:\",\" \"))\n",
    "date2=page_soup.findAll(\"ul\",{\"style\":\"list-style-type:circle;\"})\n",
    "element=page_soup.find_all('td')\n",
    "for i in date2:\n",
    "    txt=i.text\n",
    "    j=re.findall(\"PM$\",txt)\n",
    "    if j:\n",
    "        print(txt)\n",
    "for i in element:\n",
    "    txt=i.text\n",
    "    k= re.findall(\"hour$\", txt)\n",
    "    if k:\n",
    "        print(i.text)"
   ]
  },
  {
   "cell_type": "code",
   "execution_count": null,
   "metadata": {},
   "outputs": [],
   "source": []
  }
 ],
 "metadata": {
  "kernelspec": {
   "display_name": "Python 3",
   "language": "python",
   "name": "python3"
  },
  "language_info": {
   "codemirror_mode": {
    "name": "ipython",
    "version": 3
   },
   "file_extension": ".py",
   "mimetype": "text/x-python",
   "name": "python",
   "nbconvert_exporter": "python",
   "pygments_lexer": "ipython3",
   "version": "3.7.7"
  }
 },
 "nbformat": 4,
 "nbformat_minor": 4
}
