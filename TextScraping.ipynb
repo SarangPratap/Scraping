{
 "cells": [
  {
   "cell_type": "code",
   "execution_count": 1,
   "metadata": {},
   "outputs": [],
   "source": [
    "from urllib.request import urlopen as uReq\n",
    "from bs4 import BeautifulSoup as soup"
   ]
  },
  {
   "cell_type": "code",
   "execution_count": 2,
   "metadata": {},
   "outputs": [],
   "source": [
    "my_url=\"https://www.kommunicate.io/\"\n",
    "uClient=uReq(my_url)\n",
    "page_html=uClient.read()"
   ]
  },
  {
   "cell_type": "code",
   "execution_count": 3,
   "metadata": {},
   "outputs": [],
   "source": [
    "uClient.close()\n",
    "page_soup=soup(page_html,\"html.parser\")"
   ]
  },
  {
   "cell_type": "code",
   "execution_count": 5,
   "metadata": {},
   "outputs": [
    {
     "name": "stdout",
     "output_type": "stream",
     "text": [
      "\r\n",
      "          30 days trial. Quick setup. No credit card required.\r\n",
      "        \n"
     ]
    }
   ],
   "source": [
    "default=0\n",
    "heading=page_soup.findAll(\"h1\",{\"class\":\"hero-text\"}) \n",
    "heading[default].text\n",
    "tagLine=page_soup.findAll(\"p\",{\"class\":\"testimonials-trust\"})\n",
    "tagLine[default].text\n",
    "Quick=page_soup.findAll(\"p\",{\"class\":\"no-credit-card-text\"})\n",
    "print(Quick[default].text)\n"
   ]
  },
  {
   "cell_type": "code",
   "execution_count": 6,
   "metadata": {},
   "outputs": [
    {
     "name": "stdout",
     "output_type": "stream",
     "text": [
      "\n",
      "            Give your customers the best of both automation and human touch\n",
      "          \n",
      "\n",
      "Truly codeless bot integration to kickstart your customer support automation\n",
      "Move beyond plain texts, drive better engagement with rich messaging\n",
      "Seamless bot to human handoff for the best customer support experience\n",
      "\n",
      "\n",
      "            Scale your business with your own bots and conversational workflows\n",
      "          \n",
      "\n",
      "Simple, intuitive and easy to use interface wrapped over powerful conversational AI\n",
      "Make custom bots for your business with our no-code, GUI bot builder, Kompose\n",
      "Create bots that can qualify leads, schedule meetings or support your customers 24/7\n",
      "\n",
      "\n",
      "            Manage all your customer conversations easily with the powerful Dashboard\n",
      "          \n",
      "\n",
      "Feature-packed Dashboard to manage customer conversations from multiple channels\n",
      "Sell and support better by leveraging user information, events and conversation history\n",
      "Improve performance by advanced analytics, available for both chatbots and humans \n",
      "\n",
      "\n",
      "            Empower your sales, marketing and customer support team with live chat\n",
      "          \n",
      "\n",
      "Provide instant gratification to your customers and increase customer satisfaction\n",
      "Qualify your leads better using lead collection forms and lead generation chatbots\n",
      "Tons of customization options to tune it according to your brand image and use case\n",
      "\n",
      "\n",
      "            Leverage customer self-serve and FAQ bot to minimize incoming queries\n",
      "          \n",
      "\n",
      "Set up your FAQs and knowledge base to let your customer help themselves\n",
      "Customize the Helpcenter to make it your own and deploy on your domain\n",
      "Use Liz, the FAQ bot, to answer queries by fetching answers from your FAQs\n",
      "\n"
     ]
    }
   ],
   "source": [
    "\n",
    "#Features \n",
    "features_heading=page_soup.findAll(\"h2\",{\"class\":\"features_heading\"})\n",
    "for i in range(len(features_heading)):\n",
    "    print(features_heading[i].text)\n",
    "    features=page_soup.findAll(\"ul\",{\"class\":\"features_points\"})\n",
    "    print(features[i].text)"
   ]
  },
  {
   "cell_type": "code",
   "execution_count": 15,
   "metadata": {},
   "outputs": [
    {
     "name": "stdout",
     "output_type": "stream",
     "text": [
      "\n",
      "                    Join the list of happy customers\n",
      "                \n"
     ]
    }
   ],
   "source": [
    "\n",
    "#section heading 0\n",
    "section_heading=page_soup.findAll(\"h2\",{\"class\":\"section-heading\"})\n",
    "print(section_heading[0].text)\n"
   ]
  },
  {
   "cell_type": "code",
   "execution_count": 9,
   "metadata": {},
   "outputs": [
    {
     "name": "stdout",
     "output_type": "stream",
     "text": [
      "Jamenson Alvarez\n",
      "Latam Digital Marketing\n",
      "\n",
      "After using Kommunicate, we saw an increase of 980% in customer conversations. The chatbot-based automation does a lot for us - trigger a conversation, resolve to customer queries, and even generate business opportunities that we can redirect to our sales executives.\n",
      "\n",
      "Tom Bulis\n",
      "EpicSports\n",
      "\n",
      "By shifting customer requests to Kommunicate chat, we automated many of the repetitive tasks that our customer service team performs daily. We have been able to automatically contain 60% of incoming customer service requests for Epic Sports.\n",
      "\n",
      "Easily integrate across all your platforms\n",
      "\r\n",
      "                  Integrating Kommunicate in your platforms is super easy. With our powerful Web plugin, Android and iOS SDKs, your support system will be up and running in a matter of minutes.\r\n",
      "              \n",
      "Use Kommunicate with your favorite apps\n",
      "\r\n",
      "                    Seamlessly move to and fro between your favorite apps and Kommunicate. Make most out of your customer support by integrating different platforms such as CRMs and knowledge-base Software.\r\n",
      "                \n"
     ]
    }
   ],
   "source": [
    "\n",
    "#Testimonial Information\n",
    "contaniers=page_soup.findAll(\"div\",{\"class\":\"testimonials\"}) \n",
    "for container in contaniers:\n",
    "    title_container=container.findAll(\"h3\",{\"class\":\"testimonial-by-name\"}) \n",
    "    print(title_container[0].text) #name\n",
    "    desig_container=container.findAll(\"p\",{\"class\":\"testimonial-by-designation\"})\n",
    "    print(desig_container[0].text)\n",
    "    quote_container=container.findAll(\"div\",{\"class\":\"testimonial-quote\"})\n",
    "    print(quote_container[0].text)\n",
    "    \n",
    "section_heading[0].text    \n",
    "beta_features=page_soup.findAll(\"div\",{\"class\":\"homepage-pointers\"})\n",
    "beta_features[default].text\n",
    "\n",
    "integrate_Sec=page_soup.findAll(\"h3\",{\"class\":\"cards-topic-title\"})\n",
    "subheading=page_soup.findAll(\"p\",{\"class\":\"section-subheading\"})\n",
    "for i in range(len(integrate_Sec)):\n",
    "    print(integrate_Sec[i].text)\n",
    "    print(subheading[i].text)"
   ]
  },
  {
   "cell_type": "code",
   "execution_count": 10,
   "metadata": {},
   "outputs": [
    {
     "name": "stdout",
     "output_type": "stream",
     "text": [
      "Address: \n",
      "StanfordFinancialSquare,\n",
      "2600ElCaminoReal,Suite415,\n",
      "PaloAlto,CA94306\n",
      "(+1)(310)909-7458\n",
      "hello@kommunicate.io\n",
      "\n",
      "\n"
     ]
    }
   ],
   "source": [
    "#Address\n",
    "address=page_soup.findAll('div',{\"class\":\"km-address\"})\n",
    "print(\"Address:\",address[0].text.replace(\" \",\"\"))"
   ]
  },
  {
   "cell_type": "code",
   "execution_count": null,
   "metadata": {},
   "outputs": [],
   "source": []
  }
 ],
 "metadata": {
  "kernelspec": {
   "display_name": "Python 3",
   "language": "python",
   "name": "python3"
  },
  "language_info": {
   "codemirror_mode": {
    "name": "ipython",
    "version": 3
   },
   "file_extension": ".py",
   "mimetype": "text/x-python",
   "name": "python",
   "nbconvert_exporter": "python",
   "pygments_lexer": "ipython3",
   "version": "3.7.7"
  }
 },
 "nbformat": 4,
 "nbformat_minor": 4
}
